{
 "cells": [
  {
   "cell_type": "code",
   "execution_count": null,
   "metadata": {
    "collapsed": true
   },
   "outputs": [],
   "source": []
  },
  {
   "cell_type": "code",
   "execution_count": 2,
   "metadata": {
    "collapsed": true
   },
   "outputs": [],
   "source": [
    "import pandas as pd\n",
    "import numpy as np\n",
    "import matplotlib.pyplot as plt\n",
    "from sklearn.model_selection import train_test_split\n",
    "from sklearn import tree\n",
    "from sklearn.metrics import accuracy_score\n",
    "from scipy import misc"
   ]
  },
  {
   "cell_type": "code",
   "execution_count": null,
   "metadata": {
    "collapsed": true
   },
   "outputs": [],
   "source": []
  },
  {
   "cell_type": "code",
   "execution_count": 3,
   "metadata": {
    "collapsed": true
   },
   "outputs": [],
   "source": [
    "nfl_draft = pd.read_csv(\"nfl_draft_data.csv\")"
   ]
  },
  {
   "cell_type": "code",
   "execution_count": 4,
   "metadata": {},
   "outputs": [
    {
     "data": {
      "text/html": [
       "<div>\n",
       "<style>\n",
       "    .dataframe thead tr:only-child th {\n",
       "        text-align: right;\n",
       "    }\n",
       "\n",
       "    .dataframe thead th {\n",
       "        text-align: left;\n",
       "    }\n",
       "\n",
       "    .dataframe tbody tr th {\n",
       "        vertical-align: top;\n",
       "    }\n",
       "</style>\n",
       "<table border=\"1\" class=\"dataframe\">\n",
       "  <thead>\n",
       "    <tr style=\"text-align: right;\">\n",
       "      <th></th>\n",
       "      <th>DRAFT_YEAR</th>\n",
       "      <th>PLAYER</th>\n",
       "      <th>COLLEGE</th>\n",
       "      <th>POS</th>\n",
       "      <th>HEIGHT</th>\n",
       "      <th>WEIGHT</th>\n",
       "      <th>FORTY_YARD</th>\n",
       "      <th>BENCH_PRESS</th>\n",
       "      <th>VERTICAL_LEAP</th>\n",
       "      <th>BROAD_JUMP</th>\n",
       "      <th>SHUTTLE</th>\n",
       "      <th>THREE_CONE</th>\n",
       "      <th>POWER_FIVE</th>\n",
       "      <th>FIRST_ROUND_PICK</th>\n",
       "    </tr>\n",
       "  </thead>\n",
       "  <tbody>\n",
       "    <tr>\n",
       "      <th>0</th>\n",
       "      <td>2017</td>\n",
       "      <td>John Johnson</td>\n",
       "      <td>Boston College</td>\n",
       "      <td>FS</td>\n",
       "      <td>72.63</td>\n",
       "      <td>208</td>\n",
       "      <td>4.61</td>\n",
       "      <td>14.0</td>\n",
       "      <td>37.0</td>\n",
       "      <td>119.0</td>\n",
       "      <td>4.18</td>\n",
       "      <td>6.72</td>\n",
       "      <td>1</td>\n",
       "      <td>0</td>\n",
       "    </tr>\n",
       "    <tr>\n",
       "      <th>1</th>\n",
       "      <td>2017</td>\n",
       "      <td>Matt Milano</td>\n",
       "      <td>Boston College</td>\n",
       "      <td>OLB</td>\n",
       "      <td>72.25</td>\n",
       "      <td>223</td>\n",
       "      <td>4.67</td>\n",
       "      <td>24.0</td>\n",
       "      <td>35.0</td>\n",
       "      <td>126.0</td>\n",
       "      <td>4.38</td>\n",
       "      <td>7.07</td>\n",
       "      <td>1</td>\n",
       "      <td>0</td>\n",
       "    </tr>\n",
       "    <tr>\n",
       "      <th>2</th>\n",
       "      <td>2016</td>\n",
       "      <td>Mehdi Abdesmad</td>\n",
       "      <td>Boston College</td>\n",
       "      <td>DT</td>\n",
       "      <td>78.25</td>\n",
       "      <td>284</td>\n",
       "      <td>5.10</td>\n",
       "      <td>25.0</td>\n",
       "      <td>29.5</td>\n",
       "      <td>108.0</td>\n",
       "      <td>4.62</td>\n",
       "      <td>7.55</td>\n",
       "      <td>1</td>\n",
       "      <td>0</td>\n",
       "    </tr>\n",
       "    <tr>\n",
       "      <th>3</th>\n",
       "      <td>2016</td>\n",
       "      <td>Steven Daniels</td>\n",
       "      <td>Boston College</td>\n",
       "      <td>ILB</td>\n",
       "      <td>71.50</td>\n",
       "      <td>243</td>\n",
       "      <td>4.86</td>\n",
       "      <td>16.0</td>\n",
       "      <td>32.0</td>\n",
       "      <td>112.0</td>\n",
       "      <td>4.54</td>\n",
       "      <td>7.33</td>\n",
       "      <td>1</td>\n",
       "      <td>0</td>\n",
       "    </tr>\n",
       "    <tr>\n",
       "      <th>4</th>\n",
       "      <td>2016</td>\n",
       "      <td>Justin Simmons</td>\n",
       "      <td>Boston College</td>\n",
       "      <td>FS</td>\n",
       "      <td>74.38</td>\n",
       "      <td>202</td>\n",
       "      <td>4.61</td>\n",
       "      <td>16.0</td>\n",
       "      <td>40.0</td>\n",
       "      <td>126.0</td>\n",
       "      <td>3.85</td>\n",
       "      <td>6.58</td>\n",
       "      <td>1</td>\n",
       "      <td>0</td>\n",
       "    </tr>\n",
       "  </tbody>\n",
       "</table>\n",
       "</div>"
      ],
      "text/plain": [
       "   DRAFT_YEAR          PLAYER         COLLEGE  POS  HEIGHT  WEIGHT  \\\n",
       "0        2017    John Johnson  Boston College   FS   72.63     208   \n",
       "1        2017     Matt Milano  Boston College  OLB   72.25     223   \n",
       "2        2016  Mehdi Abdesmad  Boston College   DT   78.25     284   \n",
       "3        2016  Steven Daniels  Boston College  ILB   71.50     243   \n",
       "4        2016  Justin Simmons  Boston College   FS   74.38     202   \n",
       "\n",
       "   FORTY_YARD  BENCH_PRESS  VERTICAL_LEAP  BROAD_JUMP  SHUTTLE  THREE_CONE  \\\n",
       "0        4.61         14.0           37.0       119.0     4.18        6.72   \n",
       "1        4.67         24.0           35.0       126.0     4.38        7.07   \n",
       "2        5.10         25.0           29.5       108.0     4.62        7.55   \n",
       "3        4.86         16.0           32.0       112.0     4.54        7.33   \n",
       "4        4.61         16.0           40.0       126.0     3.85        6.58   \n",
       "\n",
       "   POWER_FIVE  FIRST_ROUND_PICK  \n",
       "0           1                 0  \n",
       "1           1                 0  \n",
       "2           1                 0  \n",
       "3           1                 0  \n",
       "4           1                 0  "
      ]
     },
     "execution_count": 4,
     "metadata": {},
     "output_type": "execute_result"
    }
   ],
   "source": [
    "nfl_draft.head()"
   ]
  },
  {
   "cell_type": "code",
   "execution_count": 5,
   "metadata": {
    "collapsed": true
   },
   "outputs": [],
   "source": [
    "final_nfl_draft = nfl_draft.join((pd.get_dummies(nfl_draft['POS'])))\n",
    "final_nfl_draft = final_nfl_draft.drop(['POS'],axis=1)"
   ]
  },
  {
   "cell_type": "code",
   "execution_count": 6,
   "metadata": {},
   "outputs": [
    {
     "data": {
      "text/html": [
       "<div>\n",
       "<style>\n",
       "    .dataframe thead tr:only-child th {\n",
       "        text-align: right;\n",
       "    }\n",
       "\n",
       "    .dataframe thead th {\n",
       "        text-align: left;\n",
       "    }\n",
       "\n",
       "    .dataframe tbody tr th {\n",
       "        vertical-align: top;\n",
       "    }\n",
       "</style>\n",
       "<table border=\"1\" class=\"dataframe\">\n",
       "  <thead>\n",
       "    <tr style=\"text-align: right;\">\n",
       "      <th></th>\n",
       "      <th>DRAFT_YEAR</th>\n",
       "      <th>PLAYER</th>\n",
       "      <th>COLLEGE</th>\n",
       "      <th>HEIGHT</th>\n",
       "      <th>WEIGHT</th>\n",
       "      <th>FORTY_YARD</th>\n",
       "      <th>BENCH_PRESS</th>\n",
       "      <th>VERTICAL_LEAP</th>\n",
       "      <th>BROAD_JUMP</th>\n",
       "      <th>SHUTTLE</th>\n",
       "      <th>...</th>\n",
       "      <th>OG</th>\n",
       "      <th>OL</th>\n",
       "      <th>OLB</th>\n",
       "      <th>OT</th>\n",
       "      <th>P</th>\n",
       "      <th>QB</th>\n",
       "      <th>RB</th>\n",
       "      <th>SS</th>\n",
       "      <th>TE</th>\n",
       "      <th>WR</th>\n",
       "    </tr>\n",
       "  </thead>\n",
       "  <tbody>\n",
       "    <tr>\n",
       "      <th>0</th>\n",
       "      <td>2017</td>\n",
       "      <td>John Johnson</td>\n",
       "      <td>Boston College</td>\n",
       "      <td>72.63</td>\n",
       "      <td>208</td>\n",
       "      <td>4.61</td>\n",
       "      <td>14.0</td>\n",
       "      <td>37.0</td>\n",
       "      <td>119.0</td>\n",
       "      <td>4.18</td>\n",
       "      <td>...</td>\n",
       "      <td>0</td>\n",
       "      <td>0</td>\n",
       "      <td>0</td>\n",
       "      <td>0</td>\n",
       "      <td>0</td>\n",
       "      <td>0</td>\n",
       "      <td>0</td>\n",
       "      <td>0</td>\n",
       "      <td>0</td>\n",
       "      <td>0</td>\n",
       "    </tr>\n",
       "    <tr>\n",
       "      <th>1</th>\n",
       "      <td>2017</td>\n",
       "      <td>Matt Milano</td>\n",
       "      <td>Boston College</td>\n",
       "      <td>72.25</td>\n",
       "      <td>223</td>\n",
       "      <td>4.67</td>\n",
       "      <td>24.0</td>\n",
       "      <td>35.0</td>\n",
       "      <td>126.0</td>\n",
       "      <td>4.38</td>\n",
       "      <td>...</td>\n",
       "      <td>0</td>\n",
       "      <td>0</td>\n",
       "      <td>1</td>\n",
       "      <td>0</td>\n",
       "      <td>0</td>\n",
       "      <td>0</td>\n",
       "      <td>0</td>\n",
       "      <td>0</td>\n",
       "      <td>0</td>\n",
       "      <td>0</td>\n",
       "    </tr>\n",
       "    <tr>\n",
       "      <th>2</th>\n",
       "      <td>2016</td>\n",
       "      <td>Mehdi Abdesmad</td>\n",
       "      <td>Boston College</td>\n",
       "      <td>78.25</td>\n",
       "      <td>284</td>\n",
       "      <td>5.10</td>\n",
       "      <td>25.0</td>\n",
       "      <td>29.5</td>\n",
       "      <td>108.0</td>\n",
       "      <td>4.62</td>\n",
       "      <td>...</td>\n",
       "      <td>0</td>\n",
       "      <td>0</td>\n",
       "      <td>0</td>\n",
       "      <td>0</td>\n",
       "      <td>0</td>\n",
       "      <td>0</td>\n",
       "      <td>0</td>\n",
       "      <td>0</td>\n",
       "      <td>0</td>\n",
       "      <td>0</td>\n",
       "    </tr>\n",
       "    <tr>\n",
       "      <th>3</th>\n",
       "      <td>2016</td>\n",
       "      <td>Steven Daniels</td>\n",
       "      <td>Boston College</td>\n",
       "      <td>71.50</td>\n",
       "      <td>243</td>\n",
       "      <td>4.86</td>\n",
       "      <td>16.0</td>\n",
       "      <td>32.0</td>\n",
       "      <td>112.0</td>\n",
       "      <td>4.54</td>\n",
       "      <td>...</td>\n",
       "      <td>0</td>\n",
       "      <td>0</td>\n",
       "      <td>0</td>\n",
       "      <td>0</td>\n",
       "      <td>0</td>\n",
       "      <td>0</td>\n",
       "      <td>0</td>\n",
       "      <td>0</td>\n",
       "      <td>0</td>\n",
       "      <td>0</td>\n",
       "    </tr>\n",
       "    <tr>\n",
       "      <th>4</th>\n",
       "      <td>2016</td>\n",
       "      <td>Justin Simmons</td>\n",
       "      <td>Boston College</td>\n",
       "      <td>74.38</td>\n",
       "      <td>202</td>\n",
       "      <td>4.61</td>\n",
       "      <td>16.0</td>\n",
       "      <td>40.0</td>\n",
       "      <td>126.0</td>\n",
       "      <td>3.85</td>\n",
       "      <td>...</td>\n",
       "      <td>0</td>\n",
       "      <td>0</td>\n",
       "      <td>0</td>\n",
       "      <td>0</td>\n",
       "      <td>0</td>\n",
       "      <td>0</td>\n",
       "      <td>0</td>\n",
       "      <td>0</td>\n",
       "      <td>0</td>\n",
       "      <td>0</td>\n",
       "    </tr>\n",
       "  </tbody>\n",
       "</table>\n",
       "<p>5 rows × 36 columns</p>\n",
       "</div>"
      ],
      "text/plain": [
       "   DRAFT_YEAR          PLAYER         COLLEGE  HEIGHT  WEIGHT  FORTY_YARD  \\\n",
       "0        2017    John Johnson  Boston College   72.63     208        4.61   \n",
       "1        2017     Matt Milano  Boston College   72.25     223        4.67   \n",
       "2        2016  Mehdi Abdesmad  Boston College   78.25     284        5.10   \n",
       "3        2016  Steven Daniels  Boston College   71.50     243        4.86   \n",
       "4        2016  Justin Simmons  Boston College   74.38     202        4.61   \n",
       "\n",
       "   BENCH_PRESS  VERTICAL_LEAP  BROAD_JUMP  SHUTTLE ...  OG  OL  OLB  OT  P  \\\n",
       "0         14.0           37.0       119.0     4.18 ...   0   0    0   0  0   \n",
       "1         24.0           35.0       126.0     4.38 ...   0   0    1   0  0   \n",
       "2         25.0           29.5       108.0     4.62 ...   0   0    0   0  0   \n",
       "3         16.0           32.0       112.0     4.54 ...   0   0    0   0  0   \n",
       "4         16.0           40.0       126.0     3.85 ...   0   0    0   0  0   \n",
       "\n",
       "   QB  RB  SS  TE  WR  \n",
       "0   0   0   0   0   0  \n",
       "1   0   0   0   0   0  \n",
       "2   0   0   0   0   0  \n",
       "3   0   0   0   0   0  \n",
       "4   0   0   0   0   0  \n",
       "\n",
       "[5 rows x 36 columns]"
      ]
     },
     "execution_count": 6,
     "metadata": {},
     "output_type": "execute_result"
    }
   ],
   "source": [
    "final_nfl_draft.head()"
   ]
  },
  {
   "cell_type": "code",
   "execution_count": 7,
   "metadata": {
    "collapsed": true
   },
   "outputs": [],
   "source": [
    "X = final_nfl_draft.drop(['FIRST_ROUND_PICK','PLAYER','COLLEGE'], axis=1)\n",
    "y = final_nfl_draft['FIRST_ROUND_PICK']"
   ]
  },
  {
   "cell_type": "code",
   "execution_count": 8,
   "metadata": {},
   "outputs": [
    {
     "data": {
      "text/html": [
       "<div>\n",
       "<style>\n",
       "    .dataframe thead tr:only-child th {\n",
       "        text-align: right;\n",
       "    }\n",
       "\n",
       "    .dataframe thead th {\n",
       "        text-align: left;\n",
       "    }\n",
       "\n",
       "    .dataframe tbody tr th {\n",
       "        vertical-align: top;\n",
       "    }\n",
       "</style>\n",
       "<table border=\"1\" class=\"dataframe\">\n",
       "  <thead>\n",
       "    <tr style=\"text-align: right;\">\n",
       "      <th></th>\n",
       "      <th>DRAFT_YEAR</th>\n",
       "      <th>HEIGHT</th>\n",
       "      <th>WEIGHT</th>\n",
       "      <th>FORTY_YARD</th>\n",
       "      <th>BENCH_PRESS</th>\n",
       "      <th>VERTICAL_LEAP</th>\n",
       "      <th>BROAD_JUMP</th>\n",
       "      <th>SHUTTLE</th>\n",
       "      <th>THREE_CONE</th>\n",
       "      <th>POWER_FIVE</th>\n",
       "      <th>...</th>\n",
       "      <th>OG</th>\n",
       "      <th>OL</th>\n",
       "      <th>OLB</th>\n",
       "      <th>OT</th>\n",
       "      <th>P</th>\n",
       "      <th>QB</th>\n",
       "      <th>RB</th>\n",
       "      <th>SS</th>\n",
       "      <th>TE</th>\n",
       "      <th>WR</th>\n",
       "    </tr>\n",
       "  </thead>\n",
       "  <tbody>\n",
       "    <tr>\n",
       "      <th>0</th>\n",
       "      <td>2017</td>\n",
       "      <td>72.63</td>\n",
       "      <td>208</td>\n",
       "      <td>4.61</td>\n",
       "      <td>14.0</td>\n",
       "      <td>37.0</td>\n",
       "      <td>119.0</td>\n",
       "      <td>4.18</td>\n",
       "      <td>6.72</td>\n",
       "      <td>1</td>\n",
       "      <td>...</td>\n",
       "      <td>0</td>\n",
       "      <td>0</td>\n",
       "      <td>0</td>\n",
       "      <td>0</td>\n",
       "      <td>0</td>\n",
       "      <td>0</td>\n",
       "      <td>0</td>\n",
       "      <td>0</td>\n",
       "      <td>0</td>\n",
       "      <td>0</td>\n",
       "    </tr>\n",
       "    <tr>\n",
       "      <th>1</th>\n",
       "      <td>2017</td>\n",
       "      <td>72.25</td>\n",
       "      <td>223</td>\n",
       "      <td>4.67</td>\n",
       "      <td>24.0</td>\n",
       "      <td>35.0</td>\n",
       "      <td>126.0</td>\n",
       "      <td>4.38</td>\n",
       "      <td>7.07</td>\n",
       "      <td>1</td>\n",
       "      <td>...</td>\n",
       "      <td>0</td>\n",
       "      <td>0</td>\n",
       "      <td>1</td>\n",
       "      <td>0</td>\n",
       "      <td>0</td>\n",
       "      <td>0</td>\n",
       "      <td>0</td>\n",
       "      <td>0</td>\n",
       "      <td>0</td>\n",
       "      <td>0</td>\n",
       "    </tr>\n",
       "    <tr>\n",
       "      <th>2</th>\n",
       "      <td>2016</td>\n",
       "      <td>78.25</td>\n",
       "      <td>284</td>\n",
       "      <td>5.10</td>\n",
       "      <td>25.0</td>\n",
       "      <td>29.5</td>\n",
       "      <td>108.0</td>\n",
       "      <td>4.62</td>\n",
       "      <td>7.55</td>\n",
       "      <td>1</td>\n",
       "      <td>...</td>\n",
       "      <td>0</td>\n",
       "      <td>0</td>\n",
       "      <td>0</td>\n",
       "      <td>0</td>\n",
       "      <td>0</td>\n",
       "      <td>0</td>\n",
       "      <td>0</td>\n",
       "      <td>0</td>\n",
       "      <td>0</td>\n",
       "      <td>0</td>\n",
       "    </tr>\n",
       "    <tr>\n",
       "      <th>3</th>\n",
       "      <td>2016</td>\n",
       "      <td>71.50</td>\n",
       "      <td>243</td>\n",
       "      <td>4.86</td>\n",
       "      <td>16.0</td>\n",
       "      <td>32.0</td>\n",
       "      <td>112.0</td>\n",
       "      <td>4.54</td>\n",
       "      <td>7.33</td>\n",
       "      <td>1</td>\n",
       "      <td>...</td>\n",
       "      <td>0</td>\n",
       "      <td>0</td>\n",
       "      <td>0</td>\n",
       "      <td>0</td>\n",
       "      <td>0</td>\n",
       "      <td>0</td>\n",
       "      <td>0</td>\n",
       "      <td>0</td>\n",
       "      <td>0</td>\n",
       "      <td>0</td>\n",
       "    </tr>\n",
       "    <tr>\n",
       "      <th>4</th>\n",
       "      <td>2016</td>\n",
       "      <td>74.38</td>\n",
       "      <td>202</td>\n",
       "      <td>4.61</td>\n",
       "      <td>16.0</td>\n",
       "      <td>40.0</td>\n",
       "      <td>126.0</td>\n",
       "      <td>3.85</td>\n",
       "      <td>6.58</td>\n",
       "      <td>1</td>\n",
       "      <td>...</td>\n",
       "      <td>0</td>\n",
       "      <td>0</td>\n",
       "      <td>0</td>\n",
       "      <td>0</td>\n",
       "      <td>0</td>\n",
       "      <td>0</td>\n",
       "      <td>0</td>\n",
       "      <td>0</td>\n",
       "      <td>0</td>\n",
       "      <td>0</td>\n",
       "    </tr>\n",
       "  </tbody>\n",
       "</table>\n",
       "<p>5 rows × 33 columns</p>\n",
       "</div>"
      ],
      "text/plain": [
       "   DRAFT_YEAR  HEIGHT  WEIGHT  FORTY_YARD  BENCH_PRESS  VERTICAL_LEAP  \\\n",
       "0        2017   72.63     208        4.61         14.0           37.0   \n",
       "1        2017   72.25     223        4.67         24.0           35.0   \n",
       "2        2016   78.25     284        5.10         25.0           29.5   \n",
       "3        2016   71.50     243        4.86         16.0           32.0   \n",
       "4        2016   74.38     202        4.61         16.0           40.0   \n",
       "\n",
       "   BROAD_JUMP  SHUTTLE  THREE_CONE  POWER_FIVE ...  OG  OL  OLB  OT  P  QB  \\\n",
       "0       119.0     4.18        6.72           1 ...   0   0    0   0  0   0   \n",
       "1       126.0     4.38        7.07           1 ...   0   0    1   0  0   0   \n",
       "2       108.0     4.62        7.55           1 ...   0   0    0   0  0   0   \n",
       "3       112.0     4.54        7.33           1 ...   0   0    0   0  0   0   \n",
       "4       126.0     3.85        6.58           1 ...   0   0    0   0  0   0   \n",
       "\n",
       "   RB  SS  TE  WR  \n",
       "0   0   0   0   0  \n",
       "1   0   0   0   0  \n",
       "2   0   0   0   0  \n",
       "3   0   0   0   0  \n",
       "4   0   0   0   0  \n",
       "\n",
       "[5 rows x 33 columns]"
      ]
     },
     "execution_count": 8,
     "metadata": {},
     "output_type": "execute_result"
    }
   ],
   "source": [
    "X.head()"
   ]
  },
  {
   "cell_type": "code",
   "execution_count": 9,
   "metadata": {
    "collapsed": true
   },
   "outputs": [],
   "source": [
    "X_train, X_test, y_train, y_test = train_test_split(X, y, random_state=50, test_size=.7)"
   ]
  },
  {
   "cell_type": "code",
   "execution_count": 10,
   "metadata": {},
   "outputs": [
    {
     "data": {
      "image/png": "[encoded data removed]",
      "text/plain": [
       "<matplotlib.figure.Figure at 0x226c70b4f60>"
      ]
     },
     "metadata": {},
     "output_type": "display_data"
    }
   ],
   "source": [
    "%matplotlib inline  \n",
    "year_hist = plt.hist(X['DRAFT_YEAR'])\n"
   ]
  },
  {
   "cell_type": "code",
   "execution_count": 11,
   "metadata": {
    "collapsed": true
   },
   "outputs": [],
   "source": [
    "model = tree.DecisionTreeClassifier(max_depth=10)"
   ]
  },
  {
   "cell_type": "code",
   "execution_count": 12,
   "metadata": {},
   "outputs": [
    {
     "data": {
      "text/plain": [
       "DecisionTreeClassifier(class_weight=None, criterion='gini', max_depth=10,\n",
       "            max_features=None, max_leaf_nodes=None,\n",
       "            min_impurity_decrease=0.0, min_impurity_split=None,\n",
       "            min_samples_leaf=1, min_samples_split=2,\n",
       "            min_weight_fraction_leaf=0.0, presort=False, random_state=None,\n",
       "            splitter='best')"
      ]
     },
     "execution_count": 12,
     "metadata": {},
     "output_type": "execute_result"
    }
   ],
   "source": [
    "model.fit(X_train, y_train)"
   ]
  },
  {
   "cell_type": "code",
   "execution_count": 13,
   "metadata": {
    "collapsed": true
   },
   "outputs": [],
   "source": [
    "y_pred =model.predict(X_test)"
   ]
  },
  {
   "cell_type": "code",
   "execution_count": 14,
   "metadata": {},
   "outputs": [
    {
     "data": {
      "text/plain": [
       "0.8784235136940548"
      ]
     },
     "execution_count": 14,
     "metadata": {},
     "output_type": "execute_result"
    }
   ],
   "source": [
    "accuracy_score(y_test, y_pred)"
   ]
  },
  {
   "cell_type": "code",
   "execution_count": null,
   "metadata": {
    "collapsed": true
   },
   "outputs": [],
   "source": []
  },
  {
   "cell_type": "code",
   "execution_count": 15,
   "metadata": {
    "collapsed": true
   },
   "outputs": [],
   "source": [
    "nfl_tree = open(\"./nfl_tree.dot\", \"w\")\n",
    "dot_data=tree.export_graphviz(model, out_file=nfl_tree)\n",
    "nfl_tree.close()"
   ]
  },
  {
   "cell_type": "code",
   "execution_count": null,
   "metadata": {
    "collapsed": true
   },
   "outputs": [],
   "source": [
    "from sklearn.model_selection import learning_curve\n",
    "from sklearn.linear_model import Ridge"
   ]
  },
  {
   "cell_type": "code",
   "execution_count": null,
   "metadata": {
    "collapsed": true
   },
   "outputs": [],
   "source": [
    "train_sizes, train_scores, test_scores = learning_curve(\n",
    "        model, X, y, cv=10, n_jobs=-1, train_sizes=np.linspace(.1, 1., 10), verbose=0)\n"
   ]
  },
  {
   "cell_type": "code",
   "execution_count": null,
   "metadata": {
    "collapsed": true
   },
   "outputs": [],
   "source": [
    "train_scores_mean = np.mean(train_scores, axis=1)\n",
    "train_scores_std = np.std(train_scores, axis=1)\n",
    "test_scores_mean = np.mean(test_scores, axis=1)\n",
    "test_scores_std = np.std(test_scores, axis=1)"
   ]
  },
  {
   "cell_type": "code",
   "execution_count": null,
   "metadata": {},
   "outputs": [],
   "source": [
    "plt.figure()\n",
    "plt.legend(loc=\"best\")\n",
    "plt.xlabel(\"Training examples\")\n",
    "plt.ylabel(\"Score\")\n",
    "plt.ylim((0.6, 1.01))\n",
    "plt.gca().invert_yaxis()\n",
    "plt.grid()"
   ]
  },
  {
   "cell_type": "code",
   "execution_count": null,
   "metadata": {},
   "outputs": [],
   "source": [
    "plt.plot(train_sizes, train_scores_mean, 'o-', color=\"b\", label=\"Training score\")\n",
    "plt.plot(train_sizes, test_scores_mean, 'o-', color=\"r\", label=\"Test score\")\n",
    "plt.fill_between(train_sizes, train_scores_mean - train_scores_std, train_scores_mean + train_scores_std, \n",
    "                 alpha=0.1, color=\"b\")\n",
    "plt.fill_between(train_sizes, test_scores_mean - test_scores_std, test_scores_mean + test_scores_std, \n",
    "                 alpha=0.1, color=\"r\")\n",
    "plt.draw()\n",
    "plt.show()\n"
   ]
  }
 ],
 "metadata": {
  "kernelspec": {
   "display_name": "Python 3",
   "language": "python",
   "name": "python3"
  },
  "language_info": {
   "codemirror_mode": {
    "name": "ipython",
    "version": 3
   },
   "file_extension": ".py",
   "mimetype": "text/x-python",
   "name": "python",
   "nbconvert_exporter": "python",
   "pygments_lexer": "ipython3",
   "version": "3.6.3"
  }
 },
 "nbformat": 4,
 "nbformat_minor": 2
}
